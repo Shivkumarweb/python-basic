{
  "nbformat": 4,
  "nbformat_minor": 0,
  "metadata": {
    "colab": {
      "provenance": []
    },
    "kernelspec": {
      "name": "python3",
      "display_name": "Python 3"
    },
    "language_info": {
      "name": "python"
    }
  },
  "cells": [
    {
      "cell_type": "code",
      "execution_count": null,
      "metadata": {
        "id": "371r-CcW_JST"
      },
      "outputs": [],
      "source": []
    },
    {
      "cell_type": "markdown",
      "source": [
        "1. What is Python, and why is it popular?\n",
        "   - Python is a programming langauge that is easy to write and understand the\n",
        "     code that makes its more popular between programmers and devlopers it is a formal langauge for creating instruction for computer to follow. it is compatiable with more programing paradigms like object oriented programing functional programing etc. it is widely use in the industry because it have lots of libraries"
      ],
      "metadata": {
        "id": "B95GOWMP_N1N"
      }
    },
    {
      "cell_type": "markdown",
      "source": [
        "2. What is an interpreter in Python?\n",
        "   - A python interpreter take the high level python code and convert it into machine code and it translate the code line by line during execution and errors are identify during runtime"
      ],
      "metadata": {
        "id": "2nfhs8I1CU4x"
      }
    },
    {
      "cell_type": "markdown",
      "source": [
        "3. What are pre-defined keywords in Python?\n",
        "   - Pre-defined keywords are the reserved words in python that have a special meaning and the can not be identifiers means we can not use the as a variable function name etc\n",
        "   if, else, for, while, import, True, False etc are the examples of predifined keywords"
      ],
      "metadata": {
        "id": "dSy671X-ECve"
      }
    },
    {
      "cell_type": "markdown",
      "source": [
        "4. Can keywords be used as variable names?\n",
        "   - No we can not used keywords as variale name because they are reserved word in python they has a special meaning in python so that's why we can not used keywords as a variable name"
      ],
      "metadata": {
        "id": "x2y20NBEFck0"
      }
    },
    {
      "cell_type": "markdown",
      "source": [
        "5. What is mutability in Python?\n",
        "   - Mutability means changable we can change edit or create them after creation\n",
        "   List , dict. are the example of mutability means we can edit them after create them"
      ],
      "metadata": {
        "id": "tRp0U-mCGC_4"
      }
    },
    {
      "cell_type": "markdown",
      "source": [
        "6. Why are lists mutable, but tuples are immutable?\n",
        "   - The main diffrence between tuples and list that tuple cann't be modified after they created but list can be modified after they created, tuples use less memory then list and they are bit more faster then list so if you have data that you do not want to change so you can store them in tupples"
      ],
      "metadata": {
        "id": "bTAlkuSMGwi_"
      }
    },
    {
      "cell_type": "markdown",
      "source": [
        "7. What is the difference between “==” and “is” operators in Python?\n",
        "   - The \"==\" operatore is a comaprison operatore that is used to compare two   objects.\n",
        "   while the \"is\" operator is used to compare the location between two objects"
      ],
      "metadata": {
        "id": "vu8-5C92IQtF"
      }
    },
    {
      "cell_type": "markdown",
      "source": [
        "8. What are logical operators in Python?\n",
        "   - In python logical operators combine multiple condition together and evaluate them as a single bollean value. there are three types of logical operators in python logical AND, logical OR, logical NOT operator"
      ],
      "metadata": {
        "id": "PRFZmYJwKFYT"
      }
    },
    {
      "cell_type": "markdown",
      "source": [
        "9. What is type casting in Python?\n",
        "   - type casting is a process of changing a data type to another data type is called type casting\n",
        "   there are two type of type casting implicit and explicit."
      ],
      "metadata": {
        "id": "2dIFHQctLNW6"
      }
    },
    {
      "cell_type": "markdown",
      "source": [
        "10.  What is the difference between implicit and explicit type casting?\n",
        "     - implicit = In this method python automatically convert a datatype to another datatype\n",
        "     - explicit = in this method user convert the datatype to another datatype using inbuilt function\n",
        "     for ex. =  str(), int(), float() etc."
      ],
      "metadata": {
        "id": "iMW-LsygWqyG"
      }
    },
    {
      "cell_type": "markdown",
      "source": [
        "11. What is the purpose of conditional statements in Python?\n",
        "    - condtional statements are used in python to execute a block of code if the condtion is true\n",
        "    - example of conditional statements are if, else, elif  "
      ],
      "metadata": {
        "id": "AHsa_OZ_XwSq"
      }
    },
    {
      "cell_type": "markdown",
      "source": [
        "12.  How does the elif statement work?\n",
        "     - elif is the short name of (elseif) we have to use elif in python we can use elif to check multiple condition in python  "
      ],
      "metadata": {
        "id": "BJ-SSGVwY2eK"
      }
    },
    {
      "cell_type": "markdown",
      "source": [
        "13. What is the difference between for and while loops?\n",
        "    - while loop = it repeatedly execute the code untile the specific condition met.\n",
        "    - for loop = A for loop is used for iterate over a sequence of element"
      ],
      "metadata": {
        "id": "RBDmG_3QZr8v"
      }
    },
    {
      "cell_type": "markdown",
      "source": [
        "14. Describe a scenario where a while loop is more suitable than a for loop?\n",
        "    - a while loop is more suitable then for loop when the number of iteration is not know and depends on a condition met."
      ],
      "metadata": {
        "id": "8OgUjeAfa2T8"
      }
    },
    {
      "cell_type": "markdown",
      "source": [
        "# **Paractical Questions**\n",
        "\n",
        "---\n",
        "\n",
        "\n",
        "\n"
      ],
      "metadata": {
        "id": "h1KeNVJB6RyA"
      }
    },
    {
      "cell_type": "markdown",
      "source": [
        "# 1. Write a Python program to print \"Hello, World!\""
      ],
      "metadata": {
        "id": "dLnuOAzQ64-w"
      }
    },
    {
      "cell_type": "code",
      "source": [
        "# 1. Write a Python program to print \"Hello, World!\"\n",
        "print(\"Hello, World!\")"
      ],
      "metadata": {
        "colab": {
          "base_uri": "https://localhost:8080/"
        },
        "id": "KBI3cnrd7Hh5",
        "outputId": "ddba142b-8d0a-4aaa-fbb3-64436a53f49e"
      },
      "execution_count": null,
      "outputs": [
        {
          "output_type": "stream",
          "name": "stdout",
          "text": [
            "Hello, World!\n"
          ]
        }
      ]
    },
    {
      "cell_type": "markdown",
      "source": [
        "2. Write a Python program that displays your name and age."
      ],
      "metadata": {
        "id": "ibMVIjaf7bV4"
      }
    },
    {
      "cell_type": "code",
      "source": [
        "# Write a Python program that displays your name and age.\n",
        "name = \"shiv Kumar\"\n",
        "age = 20\n",
        "print(\"my name is\", name,\"and i am\", age, \"years old\")"
      ],
      "metadata": {
        "colab": {
          "base_uri": "https://localhost:8080/"
        },
        "id": "8kIY7f-67gf3",
        "outputId": "ed398e19-d2c0-4a46-ad92-76144fe4a1ef"
      },
      "execution_count": null,
      "outputs": [
        {
          "output_type": "stream",
          "name": "stdout",
          "text": [
            "my name is shiv Kumar and i am 20 years old\n"
          ]
        }
      ]
    },
    {
      "cell_type": "markdown",
      "source": [
        "3. Write code to print all the pre-defined keywords in Python using the keyword library."
      ],
      "metadata": {
        "id": "_sCczfxG7_zK"
      }
    },
    {
      "cell_type": "code",
      "source": [
        "# Write code to print all the pre-defined keywords in Python using the keyword library.\n",
        "\n",
        "import keyword\n",
        "\n",
        "python_keyword = keyword.kwlist\n",
        "\n",
        "print(python_keyword)\n",
        "\n"
      ],
      "metadata": {
        "colab": {
          "base_uri": "https://localhost:8080/"
        },
        "id": "rYv7HYwt8g4Q",
        "outputId": "e06211df-2270-4d5d-c1e9-7529da84cf81"
      },
      "execution_count": null,
      "outputs": [
        {
          "output_type": "stream",
          "name": "stdout",
          "text": [
            "['False', 'None', 'True', 'and', 'as', 'assert', 'async', 'await', 'break', 'class', 'continue', 'def', 'del', 'elif', 'else', 'except', 'finally', 'for', 'from', 'global', 'if', 'import', 'in', 'is', 'lambda', 'nonlocal', 'not', 'or', 'pass', 'raise', 'return', 'try', 'while', 'with', 'yield']\n",
            "35\n"
          ]
        }
      ]
    },
    {
      "cell_type": "markdown",
      "source": [
        "4.  Write a program that checks if a given word is a Python keyword"
      ],
      "metadata": {
        "id": "lUvaR0Vf886A"
      }
    },
    {
      "cell_type": "code",
      "source": [
        "# 4.  Write a program that checks if a given word is a Python keyword.\n",
        "import keyword\n",
        "python_keyword = keyword.kwlist\n",
        "word = input(\"Enter a word\")\n",
        "if word in python_keyword:\n",
        "  print(word,\" is a python keyword\")\n",
        "else:\n",
        "  print(word,\"it is not a python keyword\")\n"
      ],
      "metadata": {
        "colab": {
          "base_uri": "https://localhost:8080/"
        },
        "id": "q3RU0SeK9Kiu",
        "outputId": "3aa1535b-aec7-47df-82f0-28cf03aa128d"
      },
      "execution_count": null,
      "outputs": [
        {
          "output_type": "stream",
          "name": "stdout",
          "text": [
            "Enter a wordFalse\n",
            "False  is a python keyword\n"
          ]
        }
      ]
    },
    {
      "cell_type": "markdown",
      "source": [
        "5. Create a list and tuple in Python, and demonstrate how attempting to change an element works differently for each"
      ],
      "metadata": {
        "id": "Pa7pu_3XCB_c"
      }
    },
    {
      "cell_type": "code",
      "source": [
        "# Create a list and tuple in Python, and demonstrate how attempting to change an element works differently for each\n",
        "my_list = [\"shiv\", \"kumar\", 20]\n",
        "my_tuple = (\"himanshu\", \"rohilla\", 23)\n",
        "# printing original list\n",
        "print(my_list)\n",
        "#modifing my list\n",
        "my_list[0] = \"rohit\"\n",
        "#printing modified list\n",
        "print(my_list[0])\n",
        "#tuple can not modified because it is immutable\n",
        "try:\n",
        "    my_tuple[0] = \"rahul\"\n",
        "except TypeError:\n",
        "   print(\"tuple can not modified\")\n",
        "#printing  tuple after modification\n",
        "#it will throw an error\n",
        "print(my_tuple[0])\n",
        "\n"
      ],
      "metadata": {
        "id": "5Inj15DcCWjV",
        "colab": {
          "base_uri": "https://localhost:8080/"
        },
        "outputId": "63102f57-3fcd-4176-8fcb-8f45959debb9"
      },
      "execution_count": 1,
      "outputs": [
        {
          "output_type": "stream",
          "name": "stdout",
          "text": [
            "['shiv', 'kumar', 20]\n",
            "rohit\n",
            "tuple can not modified\n",
            "himanshu\n"
          ]
        }
      ]
    },
    {
      "cell_type": "markdown",
      "source": [
        "6. Write a function to demonstrate the behavior of mutable and immutable arguments."
      ],
      "metadata": {
        "id": "xxLrx-MWH7nu"
      }
    },
    {
      "cell_type": "code",
      "source": [
        "# Write a function to demonstrate the behavior of mutable and immutable arguments\n",
        "\n",
        "# mutable example\n",
        "my_list = [1, 2, 3, 4, 5]\n",
        "print(\"orignal imutable value \\n\", my_list)\n",
        "#modification of mutable\n",
        "my_list[0] = 10\n",
        "print(\"modified imutable value \\n\", my_list)\n",
        "\n",
        "# immutable examples in integers\n",
        "num = 10\n",
        "print(\"orignal immutable value \", num)\n",
        "# modified immutable value\n",
        "# it will create a new object\n",
        "modified_num = num + 1\n",
        "print(\"Immutable value after modification (new object) \", modified_num)\n",
        "print(\"Immutable value remains unchanged \", num)\n",
        "print()\n"
      ],
      "metadata": {
        "id": "C5CA49zAFVpE",
        "colab": {
          "base_uri": "https://localhost:8080/"
        },
        "outputId": "43344d16-1eab-46a7-f590-035fb04090a6"
      },
      "execution_count": 9,
      "outputs": [
        {
          "output_type": "stream",
          "name": "stdout",
          "text": [
            "orignal imutable value \n",
            " [1, 2, 3, 4, 5]\n",
            "modified imutable value \n",
            " [10, 2, 3, 4, 5]\n",
            "orignal immutable value  10\n",
            "Immutable value after modification (new object)  11\n",
            "Immutable value remains unchanged  10\n",
            "\n"
          ]
        }
      ]
    },
    {
      "cell_type": "markdown",
      "source": [
        "7. Write a program to demonstrate the use of logical operators.\n"
      ],
      "metadata": {
        "id": "N5IIS4hYJJYt"
      }
    },
    {
      "cell_type": "code",
      "source": [
        "#Write a program to demonstrate the use of logical operators\n",
        "# there are three types of logical operator 1. logican AND 2. logical OR 3. logical not\n",
        "a = 40\n",
        "b = 40\n",
        "c = 30\n",
        "#logical AND\n",
        "if a < b and a < c:\n",
        "  print(\"a is the smallest number\")\n",
        "else:\n",
        "  #logical OR\n",
        "  if c > a or c > b:\n",
        "    print(\"c is the largest number\")\n",
        "  #logical NOT\n",
        "  if not(a == b):\n",
        "    print(\"a and b are not equal\")\n",
        "  else:\n",
        "    print(\"a and b are equal\")\n",
        "\n"
      ],
      "metadata": {
        "id": "rDHT39r_C1Vq",
        "colab": {
          "base_uri": "https://localhost:8080/"
        },
        "outputId": "cdbbad90-d309-4d8e-bd85-c35f7ce8eb8f"
      },
      "execution_count": null,
      "outputs": [
        {
          "output_type": "stream",
          "name": "stdout",
          "text": [
            "a and b are equal\n"
          ]
        }
      ]
    },
    {
      "cell_type": "markdown",
      "source": [
        "8. Write a Python program to convert user input from string to integer, float, and boolean types.\n",
        "\n"
      ],
      "metadata": {
        "id": "9IPWCKw-MaS6"
      }
    },
    {
      "cell_type": "code",
      "source": [
        "#Write a Python program to convert user input from string to integer, float, and boolean types\n",
        "\n",
        "get_input = input(\"Enter a value\")\n",
        "\n",
        "#convert the user input from string to integer\n",
        "try:\n",
        "    int_value = int(get_input)\n",
        "    print( \"converted to  integer =\", int_value)\n",
        "except ValueError:\n",
        "  print(\"invalid input it will not convert to integer\")\n",
        "# convert the user input from string to float\n",
        "try:\n",
        "  float_value = float(get_input)\n",
        "  print( \"converted to float =\",float_value)\n",
        "except ValueError:\n",
        "  print(\"invalid it will not convert to float\")\n",
        "\n",
        "# convert the user input from string to boolean\n",
        "try:\n",
        "  boolean_value = bool(get_input)\n",
        "  print(\"converted to boolean =\",boolean_value)\n",
        "except ValueError:\n",
        "  print(\"invalid it will not convert to boolean\")\n"
      ],
      "metadata": {
        "colab": {
          "base_uri": "https://localhost:8080/"
        },
        "id": "4oh_RHlLMhln",
        "outputId": "b08e9d9e-fa4e-4451-e86a-341b4d322281"
      },
      "execution_count": null,
      "outputs": [
        {
          "output_type": "stream",
          "name": "stdout",
          "text": [
            "Enter a value0\n",
            "converted to  integer = 0\n",
            "converted to float = 0.0\n",
            "converted to boolean = True\n"
          ]
        }
      ]
    },
    {
      "cell_type": "markdown",
      "source": [
        "9. Write code to demonstrate type casting with list elements.\n"
      ],
      "metadata": {
        "id": "yNH-CUaAWmok"
      }
    },
    {
      "cell_type": "code",
      "source": [
        "#Write code to demonstrate type casting with list elements.\n",
        "my_list = [1, 2, 3.5, \"shiv\", 5 + 10j, True]\n",
        "\n",
        "print(\"type of item 1 =\", type(my_list[0]))\n",
        "print(\"type of item 2 =\", type(my_list[1]))\n",
        "print(\"type of item 3 =\", type(my_list[2]))\n",
        "print(\"type of item 4 =\", type(my_list[3]))\n",
        "print(\"type of item 5 =\", type(my_list[4]))\n",
        "print(\"type of item 6 =\", type(my_list[5]))\n"
      ],
      "metadata": {
        "colab": {
          "base_uri": "https://localhost:8080/"
        },
        "id": "p6HqgWc0WvRi",
        "outputId": "266dc3eb-031c-4a70-824b-b3707a7ea931"
      },
      "execution_count": null,
      "outputs": [
        {
          "output_type": "stream",
          "name": "stdout",
          "text": [
            "type of item 1 = <class 'int'>\n",
            "type of item 2 = <class 'int'>\n",
            "type of item 3 = <class 'float'>\n",
            "type of item 4 = <class 'str'>\n",
            "type of item 5 = <class 'complex'>\n",
            "type of item 6 = <class 'bool'>\n"
          ]
        }
      ]
    },
    {
      "cell_type": "markdown",
      "source": [
        "10. Write a program that checks if a number is positive, negative, or zero"
      ],
      "metadata": {
        "id": "A3hSdR-SaKcw"
      }
    },
    {
      "cell_type": "code",
      "source": [
        "# Write a program that checks if a number is positive, negative, or zero\n",
        "num = int(input(\"enter a number\"))\n",
        "if num == 0:\n",
        "  print(\"number is zero\")\n",
        "else:\n",
        "  if num < 0:\n",
        "    print(\"number is negitive\")\n",
        "  else:\n",
        "    print(\"number is positive\")"
      ],
      "metadata": {
        "colab": {
          "base_uri": "https://localhost:8080/"
        },
        "id": "YFNvMcaPXcqm",
        "outputId": "234b53e4-bc6d-4b1d-ffac-42ad98e3d19e"
      },
      "execution_count": null,
      "outputs": [
        {
          "output_type": "stream",
          "name": "stdout",
          "text": [
            "enter a number0\n",
            "number is zero\n"
          ]
        }
      ]
    },
    {
      "cell_type": "markdown",
      "source": [
        "11.  Write a for loop to print numbers from 1 to 10"
      ],
      "metadata": {
        "id": "n1xJfzcS8cxa"
      }
    },
    {
      "cell_type": "code",
      "source": [
        "# Write a for loop to print numbers from 1 to 10\n",
        "for i in range(1,11):\n",
        "  print(i)"
      ],
      "metadata": {
        "colab": {
          "base_uri": "https://localhost:8080/"
        },
        "id": "tcyqgAXf8pxW",
        "outputId": "e61b72c6-8856-463e-d3c0-395c61d0efa0"
      },
      "execution_count": null,
      "outputs": [
        {
          "output_type": "stream",
          "name": "stdout",
          "text": [
            "1\n",
            "2\n",
            "3\n",
            "4\n",
            "5\n",
            "6\n",
            "7\n",
            "8\n",
            "9\n",
            "10\n"
          ]
        }
      ]
    },
    {
      "cell_type": "markdown",
      "source": [
        "12. Write a Python program to find the sum of all even numbers between 1 and 500."
      ],
      "metadata": {
        "id": "QbwQP9sB85cG"
      }
    },
    {
      "cell_type": "code",
      "source": [
        "#Write a Python program to find the sum of all even numbers between 1 and 500\n",
        "\n",
        "sum = 0\n",
        "for i in range(1, 501):\n",
        "  if i % 2 == 0:\n",
        "    sum = sum + i\n",
        "print(\"sum of all even numbers between 1 to 500 =\", sum)"
      ],
      "metadata": {
        "colab": {
          "base_uri": "https://localhost:8080/"
        },
        "id": "2vIiNtKr8-02",
        "outputId": "bd5203c4-39e2-4359-ee31-aba84755604b"
      },
      "execution_count": null,
      "outputs": [
        {
          "output_type": "stream",
          "name": "stdout",
          "text": [
            "sum of all even numbers between 1 to 500 = 62750\n"
          ]
        }
      ]
    },
    {
      "cell_type": "markdown",
      "source": [
        "13. Write a program to reverse a string using a while loop"
      ],
      "metadata": {
        "id": "Zwhz0HhT-HSL"
      }
    },
    {
      "cell_type": "code",
      "source": [
        "# Write a program to reverse a string using a while loop\n",
        "name = \"shiv kumar\"\n",
        "i = len(name) - 1\n",
        "while i >= 0:\n",
        "  print(name[i], end  = \"\")\n",
        "  i = i - 1"
      ],
      "metadata": {
        "colab": {
          "base_uri": "https://localhost:8080/"
        },
        "id": "SzI8iAWx-Pmh",
        "outputId": "7497ed57-673e-4c63-f6f5-88bde1d50475"
      },
      "execution_count": null,
      "outputs": [
        {
          "output_type": "stream",
          "name": "stdout",
          "text": [
            "ramuk vihs"
          ]
        }
      ]
    },
    {
      "cell_type": "markdown",
      "source": [
        "14. Write a Python program to calculate the factorial of a number provided by the user using a while loop."
      ],
      "metadata": {
        "id": "C683tlkTAjkI"
      }
    },
    {
      "cell_type": "code",
      "source": [
        "#  Write a Python program to calculate the factorial of a number provided by the user using a while loop.\n",
        "\n",
        "num = int(input(\"enter a number\"))\n",
        "if  num < 0:\n",
        "  print(\"give a non negative number\")\n",
        "else:\n",
        " i = 1\n",
        "fact = 1\n",
        "while i <= num:\n",
        " fact = fact * i\n",
        " i = i + 1\n",
        "print(\"factorial of\", num, \"is\", fact)\n",
        "\n"
      ],
      "metadata": {
        "colab": {
          "base_uri": "https://localhost:8080/"
        },
        "id": "71ydZm1tAz-1",
        "outputId": "f00eddf1-6961-46cc-d08c-965c8cc6f2e2"
      },
      "execution_count": 11,
      "outputs": [
        {
          "output_type": "stream",
          "name": "stdout",
          "text": [
            "enter a number10\n",
            "factorial of 10 is 3628800\n"
          ]
        }
      ]
    },
    {
      "cell_type": "code",
      "source": [],
      "metadata": {
        "id": "7fOeZbqPEDPy"
      },
      "execution_count": null,
      "outputs": []
    }
  ]
}